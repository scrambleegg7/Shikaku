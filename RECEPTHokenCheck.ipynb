{
 "cells": [
  {
   "cell_type": "markdown",
   "metadata": {},
   "source": [
    "# Load Libraries"
   ]
  },
  {
   "cell_type": "code",
   "execution_count": 1,
   "metadata": {},
   "outputs": [],
   "source": [
    "import xml.etree.ElementTree as ET\n",
    "import os\n",
    "\n",
    "import pandas as pd\n",
    "import numpy as np\n",
    "import matplotlib.pyplot as plt\n",
    "\n",
    "from sklearn.linear_model import Ridge\n",
    "from scipy.stats import pearsonr\n",
    "from sklearn import preprocessing\n",
    "\n",
    "import zipfile\n",
    "from glob import glob\n",
    "\n",
    "import seaborn as sns\n",
    "from sympy import subsets\n",
    "sns.set()\n",
    "\n",
    "import warnings\n",
    "warnings.filterwarnings(\"ignore\", category=DeprecationWarning)\n",
    "warnings.filterwarnings(\"ignore\", category=UserWarning)\n",
    "warnings.filterwarnings(\"ignore\", category=FutureWarning)\n",
    "\n",
    "#import japanize_matplotlib\n",
    "import unicodedata\n",
    "import mojimoji\n",
    "\n",
    "from MyZipClass import MyZipClass\n",
    "from NIKKEIHokenClass import NIKKEIHokenClass\n",
    "from MyKanjyaClass import MyKanjyaClass\n",
    "from RECEPTHokenClass import RECEPTHokenClass\n",
    "\n",
    "from MyMasterClass import MyMasterClass\n"
   ]
  },
  {
   "cell_type": "markdown",
   "metadata": {},
   "source": [
    "## Main Class"
   ]
  },
  {
   "cell_type": "code",
   "execution_count": 3,
   "metadata": {},
   "outputs": [],
   "source": [
    "\n",
    "class RECEPTHokenCheckClass(MyMasterClass):\n",
    "\n",
    "    def __init__(self):\n",
    "\n",
    "        self.data_dir = u\"S:\\\\\"\n",
    "        self.output_dir = u\"L:\\\\epson_pxm840f\\\\Shikakku\"\n",
    "\n",
    "        self.shikaku_tag = {}        \n",
    "        self.shikaku = []\n",
    "\n",
    "        # expand latest shikaku history file\n",
    "        zipObject = MyZipClass()\n",
    "        self.df_shikaku = zipObject.readZipFile()\n",
    "\n",
    "        # change pd_datetime to merge recept class\n",
    "        self.df_shikaku.birth = pd.to_datetime( self.df_shikaku.birth )    \n",
    "        #zipObject.toCsv(self.df_shikaku,\"資格確認_保険証.csv\")\n",
    "        #print(\"shikaku file size : \", self.df_shikaku.shape)\n",
    "\n",
    "        # read NIKKEI data to hold Domestic/Social Insurance\n",
    "        receptObj = RECEPTHokenClass()\n",
    "        df = receptObj.integrateInsurancedata()\n",
    "        self.df_recept = df[ ((df.kouhi1.str[:2] != \"12\") & (df.kouhi1.str[:2] != \"15\")) ].copy()\n",
    "        print(\"RECEPT file size : \", self.df_recept.shape)\n",
    "\n",
    "    def dftoCsv(self,df, filename):\n",
    "        super().toCsv(df, filename)\n",
    "        #filename = os.path.join(self.output_dir,filename)\n",
    "        #df.to_csv(filename, index=False, encoding='cp932', errors='replace')\n",
    "\n",
    "    def mergeCheck(self):\n",
    "        \n",
    "        selected=['chozai','id','Name','birth','InsurerSegment','InsurerNumber',\n",
    "                    'InsuredCardSymbol','InsuredIdentificationNumber',\n",
    "                    'kouhi1','kouhi_jyu1','kouhi2','kouhi_jyu2',\n",
    "                    'kyufu','institution']\n",
    "\n",
    "    \n",
    "        df_merged = pd.merge(self.df_recept, self.df_shikaku, on=[\"birth\"], how=\"left\")\n",
    "\n",
    "        masks = (df_merged.InsurerNumber_x == df_merged.InsurerNumber_y)  &  \\\n",
    "            (df_merged.InsuredCardSymbol_x == df_merged.InsuredCardSymbol_y )  &   \\\n",
    "             (df_merged.InsuredIdentificationNumber_x == df_merged.InsuredIdentificationNumber_y) & \\\n",
    "                 (df_merged.sex == df_merged.sex1)\n",
    "\n",
    "        print(\"** NON confirmed file output shikaku with RECEPT file .....\")\n",
    "        #print(df_merged[masks])\n",
    "        return df_merged\n",
    "        #self.toCsv(df_merged[~masks],\"レセプト_byBirth.csv\")\n",
    "\n"
   ]
  },
  {
   "cell_type": "code",
   "execution_count": 5,
   "metadata": {},
   "outputs": [
    {
     "name": "stdout",
     "output_type": "stream",
     "text": [
      "['ÄæèièmöFùÜù≡_20220224143849389.csv']\n",
      "change current directory --> L:\\epson_pxm840f\\Shikakku\n",
      "## delte unzipped shikaku file... L:\\epson_pxm840f\\Shikakku\\資格確認履歴_20220224143849389.csv\n",
      "[ReceiptyClass] recepty csv data file size -->  (6019, 180)\n",
      "[ReceiptyClass] recepty csv data file size -->  (2473, 180)\n",
      "RECEPT file size :  (347, 19)\n",
      "** NON confirmed file output shikaku with RECEPT file .....\n"
     ]
    }
   ],
   "source": [
    "obj = RECEPTHokenCheckClass()\n",
    "df_merged = obj.mergeCheck()\n",
    "df_merged.fillna(\"\", inplace=True)"
   ]
  },
  {
   "cell_type": "code",
   "execution_count": 6,
   "metadata": {},
   "outputs": [],
   "source": [
    "masks = (df_merged.InsurerNumber_x.apply(str) == df_merged.InsurerNumber_y)  &  \\\n",
    "            (df_merged.InsuredCardSymbol_x == df_merged.InsuredCardSymbol_y )  &   \\\n",
    "             (df_merged.InsuredIdentificationNumber_x == df_merged.InsuredIdentificationNumber_y) # & \\\n",
    "                # (df_merged.sex == df_merged.sex1)\n"
   ]
  },
  {
   "cell_type": "code",
   "execution_count": 7,
   "metadata": {},
   "outputs": [
    {
     "data": {
      "text/plain": [
       "112"
      ]
     },
     "execution_count": 7,
     "metadata": {},
     "output_type": "execute_result"
    }
   ],
   "source": [
    "sum(masks)"
   ]
  },
  {
   "cell_type": "code",
   "execution_count": 9,
   "metadata": {},
   "outputs": [],
   "source": [
    "df_tmp = df_merged[~masks]\n",
    "sex_mask = df_tmp.sex == df_tmp.sex1 "
   ]
  },
  {
   "cell_type": "code",
   "execution_count": 18,
   "metadata": {},
   "outputs": [],
   "source": [
    "obj.toCsv(df_tmp,\"recept_notmatched.csv\")"
   ]
  },
  {
   "cell_type": "code",
   "execution_count": 16,
   "metadata": {},
   "outputs": [
    {
     "data": {
      "text/plain": [
       "(236, 50)"
      ]
     },
     "execution_count": 16,
     "metadata": {},
     "output_type": "execute_result"
    }
   ],
   "source": [
    "df_tmp.shape"
   ]
  },
  {
   "cell_type": "code",
   "execution_count": 17,
   "metadata": {},
   "outputs": [
    {
     "data": {
      "text/plain": [
       "30"
      ]
     },
     "execution_count": 17,
     "metadata": {},
     "output_type": "execute_result"
    }
   ],
   "source": [
    "sum(sex_mask)"
   ]
  },
  {
   "cell_type": "code",
   "execution_count": 11,
   "metadata": {},
   "outputs": [],
   "source": [
    "df_tmp_unmatched = df_tmp[~sex_mask]"
   ]
  },
  {
   "cell_type": "code",
   "execution_count": null,
   "metadata": {},
   "outputs": [],
   "source": [
    "display(df_tmp_unmatched)"
   ]
  },
  {
   "cell_type": "code",
   "execution_count": 15,
   "metadata": {},
   "outputs": [
    {
     "data": {
      "text/plain": [
       "0      True\n",
       "1      True\n",
       "5      True\n",
       "11     True\n",
       "12     True\n",
       "       ... \n",
       "314    True\n",
       "315    True\n",
       "316    True\n",
       "317    True\n",
       "318    True\n",
       "Name: InsurerNumber_y, Length: 206, dtype: bool"
      ]
     },
     "execution_count": 15,
     "metadata": {},
     "output_type": "execute_result"
    }
   ],
   "source": [
    "df_tmp_unmatched.InsurerNumber_y == \"\""
   ]
  }
 ],
 "metadata": {
  "interpreter": {
   "hash": "b3ba2566441a7c06988d0923437866b63cedc61552a5af99d1f4fb67d367b25f"
  },
  "kernelspec": {
   "display_name": "Python 3.8.8 ('base')",
   "language": "python",
   "name": "python3"
  },
  "language_info": {
   "codemirror_mode": {
    "name": "ipython",
    "version": 3
   },
   "file_extension": ".py",
   "mimetype": "text/x-python",
   "name": "python",
   "nbconvert_exporter": "python",
   "pygments_lexer": "ipython3",
   "version": "3.8.8"
  },
  "orig_nbformat": 4
 },
 "nbformat": 4,
 "nbformat_minor": 2
}
