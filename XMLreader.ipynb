{
 "cells": [
  {
   "cell_type": "markdown",
   "metadata": {},
   "source": [
    "# Load Library"
   ]
  },
  {
   "cell_type": "code",
   "execution_count": 4,
   "metadata": {},
   "outputs": [],
   "source": [
    "import xml.etree.ElementTree as ET\n",
    "import os\n",
    "\n",
    "import pandas as pd\n",
    "import numpy as np\n",
    "import matplotlib.pyplot as plt\n",
    "\n",
    "from sklearn.linear_model import Ridge\n",
    "from scipy.stats import pearsonr\n",
    "from sklearn import preprocessing\n",
    "\n",
    "import zipfile\n",
    "from glob import glob\n",
    "\n",
    "import seaborn as sns\n",
    "from sympy import subsets\n",
    "sns.set()\n",
    "\n",
    "import warnings\n",
    "warnings.filterwarnings(\"ignore\", category=DeprecationWarning)\n",
    "warnings.filterwarnings(\"ignore\", category=UserWarning)\n",
    "warnings.filterwarnings(\"ignore\", category=FutureWarning)\n",
    "\n",
    "#import japanize_matplotlib\n",
    "import unicodedata\n"
   ]
  },
  {
   "cell_type": "code",
   "execution_count": 5,
   "metadata": {},
   "outputs": [],
   "source": [
    "class MyXMLShikakuClass(object):\n",
    "\n",
    "    def __init__(self):\n",
    "\n",
    "        self.data_dir = \"S:\\\\\"\n",
    "        self.output_dir = \"L:\\\\epson_pxm840f\\\\Shikakku\"\n",
    "\n",
    "        self.shikaku_tag = {}        \n",
    "        self.shikaku = []\n",
    "\n",
    "        self.readFileDirectory()\n",
    "\n",
    "\n",
    "        self.taglist = []\n",
    "\n",
    "        self.dictList = []\n",
    "        \n",
    "\n",
    "    def readFileDirectory(self):\n",
    "\n",
    "        files = os.listdir(self.data_dir)\n",
    "        self.files = [f for f in files if f.endswith(\".xml\")]\n",
    "        #print(self.files)\n",
    "        #return files\n",
    "\n",
    "    def reader(self,f):\n",
    "\n",
    "        tree = ET.parse(f)\n",
    "        root = tree.getroot()\n",
    "        self.tagDict = {}\n",
    "        for child in root.iter(\"ResultOfQualificationConfirmation\"):\n",
    "            for c in child:\n",
    "                self.taglist.append(c.tag) \n",
    "\n",
    "                try:\n",
    "                    self.tagDict[c.tag] = c.text\n",
    "                    #print(c.text)\n",
    "                except:\n",
    "                    print(\"key error : tag dictionary\")\n",
    "                    \n",
    "                if c.tag == \"LimitApplicationCertificateRelatedInfo\":\n",
    "                    #print(\"限度額適用\")\n",
    "\n",
    "                    limitchild = c\n",
    "                    for lm in limitchild:\n",
    "                        #print(lm.tag, lm.text)\n",
    "                        self.taglist.append(lm.tag) \n",
    "        self.dictList.append(self.tagDict)\n",
    "            \n",
    "    \n",
    "    def getData(self):\n",
    "\n",
    "        for f in self.files:\n",
    "            f = os.path.join(self.data_dir,f)\n",
    "            xmlObject.reader(f)\n",
    "        \n",
    "        uniq_tagList = list(set( self.taglist ) )\n",
    "        self.dataList = []\n",
    "        for dataItemDict in self.dictList:\n",
    "\n",
    "            keys = dataItemDict.keys()\n",
    "            unlistdkeys = (uniq_tagList - keys)\n",
    "\n",
    "            #print(\"occurrences of unlisted keys : %d\" % len(unlistdkeys) )\n",
    "            #print(unlistdkeys)\n",
    "            for ul in unlistdkeys:\n",
    "                dataItemDict[ul] = \"\"\n",
    "            self.dataList.append( dataItemDict )\n",
    "        \n",
    "        # tranparent into pandas dataframe\n",
    "        self.df = pd.DataFrame(self.dataList)\n",
    "             \n"
   ]
  },
  {
   "cell_type": "code",
   "execution_count": 6,
   "metadata": {},
   "outputs": [],
   "source": [
    "xmlObject = MyXMLShikakuClass()"
   ]
  },
  {
   "cell_type": "code",
   "execution_count": 7,
   "metadata": {},
   "outputs": [],
   "source": [
    "xmlObject.getData()"
   ]
  },
  {
   "cell_type": "code",
   "execution_count": 10,
   "metadata": {},
   "outputs": [
    {
     "data": {
      "text/plain": [
       "InsuredCardClassification                                           01\n",
       "InsurerNumber                                                   138198\n",
       "InsuredCardSymbol                                                19-56\n",
       "InsuredIdentificationNumber                                       9249\n",
       "InsuredBranchNumber                                                 01\n",
       "PersonalFamilyClassification                                         1\n",
       "Name                                                              Δ田　茂\n",
       "NameKana                                                     ｲﾏﾀﾞ ｼｹﾞﾙ\n",
       "Sex1                                                                 1\n",
       "Birthdate                                                     19481104\n",
       "Address                                          東京都板橋区徳丸三丁目３２番３２‐３０２号\n",
       "PostNumber                                                    175-0083\n",
       "InsuredCertificateIssuanceDate                                20210304\n",
       "InsuredCardValidDate                                          20210304\n",
       "InsurerName                                                        板橋区\n",
       "LimitApplicationCertificateRelatedConsFlg                            0\n",
       "ElderlyRecipientCertificateInfo                                   None\n",
       "SpecificDiseasesCertificateRelatedConsFlg                             \n",
       "PharmacistsInfoConsFlg                                                \n",
       "LimitApplicationCertificateValidStartDate                             \n",
       "LimitApplicationCertificateValidEndDate                               \n",
       "LimitApplicationCertificateDate                                       \n",
       "LimitApplicationCertificateClassificationFlag                         \n",
       "LimitApplicationCertificateRelatedConsTime                            \n",
       "InsuredPartialContributionRatio                                       \n",
       "LimitApplicationCertificateRelatedInfo                                \n",
       "SpecificHealthCheckupsInfoConsFlg                                     \n",
       "LimitApplicationCertificateClassification                             \n",
       "Name: 18, dtype: object"
      ]
     },
     "metadata": {},
     "output_type": "display_data"
    }
   ],
   "source": [
    "display(xmlObject.df.iloc[18,:])"
   ]
  },
  {
   "cell_type": "code",
   "execution_count": 13,
   "metadata": {},
   "outputs": [],
   "source": [
    "imada = xmlObject.df.iloc[18,:].Name"
   ]
  },
  {
   "cell_type": "code",
   "execution_count": 14,
   "metadata": {},
   "outputs": [
    {
     "data": {
      "text/plain": [
       "\"'\\\\u0394\\\\u7530\\\\u3000\\\\u8302'\""
      ]
     },
     "execution_count": 14,
     "metadata": {},
     "output_type": "execute_result"
    }
   ],
   "source": [
    "ascii(imada)"
   ]
  }
 ],
 "metadata": {
  "interpreter": {
   "hash": "b3ba2566441a7c06988d0923437866b63cedc61552a5af99d1f4fb67d367b25f"
  },
  "kernelspec": {
   "display_name": "Python 3.8.8 ('base')",
   "language": "python",
   "name": "python3"
  },
  "language_info": {
   "codemirror_mode": {
    "name": "ipython",
    "version": 3
   },
   "file_extension": ".py",
   "mimetype": "text/x-python",
   "name": "python",
   "nbconvert_exporter": "python",
   "pygments_lexer": "ipython3",
   "version": "3.8.8"
  },
  "orig_nbformat": 4
 },
 "nbformat": 4,
 "nbformat_minor": 2
}
