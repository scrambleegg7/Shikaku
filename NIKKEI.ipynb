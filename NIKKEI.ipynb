{
 "cells": [
  {
   "cell_type": "markdown",
   "metadata": {},
   "source": [
    "# Load Library"
   ]
  },
  {
   "cell_type": "code",
   "execution_count": 2,
   "metadata": {},
   "outputs": [],
   "source": [
    "import xml.etree.ElementTree as ET\n",
    "import os\n",
    "\n",
    "import pandas as pd\n",
    "import numpy as np\n",
    "import matplotlib.pyplot as plt\n",
    "\n",
    "from sklearn.linear_model import Ridge\n",
    "from scipy.stats import pearsonr\n",
    "from sklearn import preprocessing\n",
    "\n",
    "import zipfile\n",
    "from glob import glob\n",
    "\n",
    "import seaborn as sns\n",
    "from sympy import subsets\n",
    "sns.set()\n",
    "\n",
    "import warnings\n",
    "warnings.filterwarnings(\"ignore\", category=DeprecationWarning)\n",
    "warnings.filterwarnings(\"ignore\", category=UserWarning)\n",
    "warnings.filterwarnings(\"ignore\", category=FutureWarning)\n",
    "\n",
    "#import japanize_matplotlib\n",
    "import unicodedata\n"
   ]
  },
  {
   "cell_type": "markdown",
   "metadata": {},
   "source": [
    "## Set Parameter"
   ]
  },
  {
   "cell_type": "code",
   "execution_count": 3,
   "metadata": {},
   "outputs": [],
   "source": [
    "data_dir = u\"L:\\\\Miyuki\"\n",
    "output_dir = u\"L:\\\\epson_pxm840f\\\\Shikakku\""
   ]
  },
  {
   "cell_type": "code",
   "execution_count": 4,
   "metadata": {},
   "outputs": [],
   "source": [
    "filename = os.path.join(data_dir,\"NIKKEI.csv\")\n",
    "df = pd.read_csv(filename,encoding='cp932')"
   ]
  },
  {
   "cell_type": "code",
   "execution_count": 5,
   "metadata": {},
   "outputs": [
    {
     "data": {
      "text/html": [
       "<div>\n",
       "<style scoped>\n",
       "    .dataframe tbody tr th:only-of-type {\n",
       "        vertical-align: middle;\n",
       "    }\n",
       "\n",
       "    .dataframe tbody tr th {\n",
       "        vertical-align: top;\n",
       "    }\n",
       "\n",
       "    .dataframe thead th {\n",
       "        text-align: right;\n",
       "    }\n",
       "</style>\n",
       "<table border=\"1\" class=\"dataframe\">\n",
       "  <thead>\n",
       "    <tr style=\"text-align: right;\">\n",
       "      <th></th>\n",
       "      <th>調剤日</th>\n",
       "      <th>時間</th>\n",
       "      <th>患者No</th>\n",
       "      <th>会員NO</th>\n",
       "      <th>患者名</th>\n",
       "      <th>生年月日</th>\n",
       "      <th>保険種類</th>\n",
       "      <th>保険者番号</th>\n",
       "      <th>被保険者記号</th>\n",
       "      <th>被保険者番号</th>\n",
       "      <th>...</th>\n",
       "      <th>薬歴管理指導料(特例 3月以内 手帳有)（再掲）（点）</th>\n",
       "      <th>薬歴管理指導料(特例 3月以内処方持参以外)（再掲）（点）</th>\n",
       "      <th>薬歴管理指導料(オンライン)（再掲）（点）</th>\n",
       "      <th>調剤感染症対策実施加算（点）</th>\n",
       "      <th>居宅療養（介護）（オンライン）（点）</th>\n",
       "      <th>予防居宅療養（介護）（オンライン）（点）</th>\n",
       "      <th>居宅療養感染症特例加算（点）</th>\n",
       "      <th>在宅患者緊急訪問薬剤管理指導料（電話等又は家族等・臨コ）（点）</th>\n",
       "      <th>在宅患者緊急訪問薬剤管理指導料（対面による場合・臨コ）（点）</th>\n",
       "      <th>服薬情報等提供料１（臨コ）（点）</th>\n",
       "    </tr>\n",
       "  </thead>\n",
       "  <tbody>\n",
       "    <tr>\n",
       "      <th>0</th>\n",
       "      <td>2022/02/01</td>\n",
       "      <td>1008</td>\n",
       "      <td>90007919</td>\n",
       "      <td>NaN</td>\n",
       "      <td>前田　憲正</td>\n",
       "      <td>1942/07/25</td>\n",
       "      <td>公単</td>\n",
       "      <td>NaN</td>\n",
       "      <td>NaN</td>\n",
       "      <td>NaN</td>\n",
       "      <td>...</td>\n",
       "      <td>0</td>\n",
       "      <td>0</td>\n",
       "      <td>0</td>\n",
       "      <td>0</td>\n",
       "      <td>0</td>\n",
       "      <td>0</td>\n",
       "      <td>0</td>\n",
       "      <td>0</td>\n",
       "      <td>0</td>\n",
       "      <td>0</td>\n",
       "    </tr>\n",
       "    <tr>\n",
       "      <th>1</th>\n",
       "      <td>2022/02/01</td>\n",
       "      <td>1058</td>\n",
       "      <td>90008892</td>\n",
       "      <td>NaN</td>\n",
       "      <td>田村　正人</td>\n",
       "      <td>1949/11/14</td>\n",
       "      <td>公単</td>\n",
       "      <td>NaN</td>\n",
       "      <td>NaN</td>\n",
       "      <td>NaN</td>\n",
       "      <td>...</td>\n",
       "      <td>0</td>\n",
       "      <td>0</td>\n",
       "      <td>0</td>\n",
       "      <td>0</td>\n",
       "      <td>0</td>\n",
       "      <td>0</td>\n",
       "      <td>0</td>\n",
       "      <td>0</td>\n",
       "      <td>0</td>\n",
       "      <td>0</td>\n",
       "    </tr>\n",
       "    <tr>\n",
       "      <th>2</th>\n",
       "      <td>2022/02/01</td>\n",
       "      <td>1058</td>\n",
       "      <td>90008345</td>\n",
       "      <td>NaN</td>\n",
       "      <td>中務　勝史</td>\n",
       "      <td>1945/03/08</td>\n",
       "      <td>公単</td>\n",
       "      <td>NaN</td>\n",
       "      <td>NaN</td>\n",
       "      <td>NaN</td>\n",
       "      <td>...</td>\n",
       "      <td>0</td>\n",
       "      <td>0</td>\n",
       "      <td>0</td>\n",
       "      <td>0</td>\n",
       "      <td>0</td>\n",
       "      <td>0</td>\n",
       "      <td>0</td>\n",
       "      <td>0</td>\n",
       "      <td>0</td>\n",
       "      <td>0</td>\n",
       "    </tr>\n",
       "    <tr>\n",
       "      <th>3</th>\n",
       "      <td>2022/02/01</td>\n",
       "      <td>1154</td>\n",
       "      <td>90009391</td>\n",
       "      <td>NaN</td>\n",
       "      <td>中島　近夫</td>\n",
       "      <td>1964/06/14</td>\n",
       "      <td>社保本人</td>\n",
       "      <td>1130012.0</td>\n",
       "      <td>２６０１０８３８</td>\n",
       "      <td>２１７</td>\n",
       "      <td>...</td>\n",
       "      <td>0</td>\n",
       "      <td>0</td>\n",
       "      <td>0</td>\n",
       "      <td>0</td>\n",
       "      <td>0</td>\n",
       "      <td>0</td>\n",
       "      <td>0</td>\n",
       "      <td>0</td>\n",
       "      <td>0</td>\n",
       "      <td>0</td>\n",
       "    </tr>\n",
       "    <tr>\n",
       "      <th>4</th>\n",
       "      <td>2022/02/01</td>\n",
       "      <td>1629</td>\n",
       "      <td>90009392</td>\n",
       "      <td>NaN</td>\n",
       "      <td>大嶋　孝聡</td>\n",
       "      <td>1984/01/12</td>\n",
       "      <td>社保本人</td>\n",
       "      <td>6139166.0</td>\n",
       "      <td>４５７</td>\n",
       "      <td>１１１５</td>\n",
       "      <td>...</td>\n",
       "      <td>0</td>\n",
       "      <td>0</td>\n",
       "      <td>0</td>\n",
       "      <td>0</td>\n",
       "      <td>0</td>\n",
       "      <td>0</td>\n",
       "      <td>0</td>\n",
       "      <td>0</td>\n",
       "      <td>0</td>\n",
       "      <td>0</td>\n",
       "    </tr>\n",
       "  </tbody>\n",
       "</table>\n",
       "<p>5 rows × 272 columns</p>\n",
       "</div>"
      ],
      "text/plain": [
       "          調剤日    時間      患者No  会員NO    患者名        生年月日  保険種類      保険者番号  \\\n",
       "0  2022/02/01  1008  90007919   NaN  前田　憲正  1942/07/25    公単        NaN   \n",
       "1  2022/02/01  1058  90008892   NaN  田村　正人  1949/11/14    公単        NaN   \n",
       "2  2022/02/01  1058  90008345   NaN  中務　勝史  1945/03/08    公単        NaN   \n",
       "3  2022/02/01  1154  90009391   NaN  中島　近夫  1964/06/14  社保本人  1130012.0   \n",
       "4  2022/02/01  1629  90009392   NaN  大嶋　孝聡  1984/01/12  社保本人  6139166.0   \n",
       "\n",
       "     被保険者記号 被保険者番号  ...  薬歴管理指導料(特例 3月以内 手帳有)（再掲）（点）  \\\n",
       "0       NaN    NaN  ...                            0   \n",
       "1       NaN    NaN  ...                            0   \n",
       "2       NaN    NaN  ...                            0   \n",
       "3  ２６０１０８３８    ２１７  ...                            0   \n",
       "4       ４５７   １１１５  ...                            0   \n",
       "\n",
       "   薬歴管理指導料(特例 3月以内処方持参以外)（再掲）（点）  薬歴管理指導料(オンライン)（再掲）（点）  調剤感染症対策実施加算（点）  \\\n",
       "0                              0                      0               0   \n",
       "1                              0                      0               0   \n",
       "2                              0                      0               0   \n",
       "3                              0                      0               0   \n",
       "4                              0                      0               0   \n",
       "\n",
       "   居宅療養（介護）（オンライン）（点）  予防居宅療養（介護）（オンライン）（点）  居宅療養感染症特例加算（点）  \\\n",
       "0                   0                     0               0   \n",
       "1                   0                     0               0   \n",
       "2                   0                     0               0   \n",
       "3                   0                     0               0   \n",
       "4                   0                     0               0   \n",
       "\n",
       "   在宅患者緊急訪問薬剤管理指導料（電話等又は家族等・臨コ）（点）  在宅患者緊急訪問薬剤管理指導料（対面による場合・臨コ）（点）  \\\n",
       "0                                0                               0   \n",
       "1                                0                               0   \n",
       "2                                0                               0   \n",
       "3                                0                               0   \n",
       "4                                0                               0   \n",
       "\n",
       "  服薬情報等提供料１（臨コ）（点）  \n",
       "0                0  \n",
       "1                0  \n",
       "2                0  \n",
       "3                0  \n",
       "4                0  \n",
       "\n",
       "[5 rows x 272 columns]"
      ]
     },
     "metadata": {},
     "output_type": "display_data"
    }
   ],
   "source": [
    "display(df.head(5))"
   ]
  },
  {
   "cell_type": "markdown",
   "metadata": {},
   "source": [
    "## Selected Data"
   ]
  },
  {
   "cell_type": "code",
   "execution_count": 6,
   "metadata": {},
   "outputs": [],
   "source": [
    "targetCols = ['調剤日',\n",
    " '患者No',\n",
    " '患者名',\n",
    " '生年月日',\n",
    " '保険種類',\n",
    " '保険者番号',\n",
    " '被保険者記号',\n",
    " '被保険者番号',\n",
    " '公費負担者番号１',\n",
    " '公費受給番号１',\n",
    " '公費負担者番号２',\n",
    " '公費受給番号２',\n",
    " '給付割合',\n",
    " '医療機関',\n",
    " '受付回数',\n",
    " '処方箋枚数',\n",
    " '保険合計(点)',\n",
    " '患者負担金(円)']"
   ]
  },
  {
   "cell_type": "code",
   "execution_count": 7,
   "metadata": {},
   "outputs": [],
   "source": [
    "\n",
    "df[targetCols].shape\n",
    "df= df[targetCols].copy()"
   ]
  },
  {
   "cell_type": "code",
   "execution_count": 8,
   "metadata": {},
   "outputs": [],
   "source": [
    "newcolname=['chozai','id','name','birth','hoken','hokenNo','kigo','bango','kouhi1','kouhi_jyu1','kouhi2','kouhi_jyu2',\n",
    "            'kyufu','institution','accept_counts','prescript_counts','total','paid']\n",
    "\n",
    "df.columns = newcolname"
   ]
  },
  {
   "cell_type": "markdown",
   "metadata": {},
   "source": [
    "## Convert str and fill 0 with blank"
   ]
  },
  {
   "cell_type": "code",
   "execution_count": 9,
   "metadata": {},
   "outputs": [],
   "source": [
    "df['kouhi1'] = df['kouhi1'].fillna(0).apply(int).apply(str).replace(['0'],' ')\n",
    "df['kouhi_jyu1'] = df['kouhi_jyu2'].fillna(0).apply(int).apply(str).replace(['0'],' ')\n",
    "df['kouhi2'] = df['kouhi2'].fillna(0).apply(int).apply(str).replace(['0'],' ')\n",
    "df['kouhi_jyu2'] = df['kouhi_jyu2'].fillna(0).apply(int).apply(str).replace(['0'],' ')\n",
    "df['hokenNo'] = df['hokenNo'].fillna(0).apply(int).apply(str).replace(['0'],' ')\n"
   ]
  },
  {
   "cell_type": "code",
   "execution_count": 10,
   "metadata": {},
   "outputs": [],
   "source": [
    "\n",
    "df['kigo'] = [unicodedata.normalize(\"NFKC\",str(z)) for z in df['kigo'].fillna(\"\").apply(str)]\n",
    "df['bango'] = [unicodedata.normalize(\"NFKC\",str(z)) for z in df['bango'].fillna(\"\").apply(str)]\n"
   ]
  },
  {
   "cell_type": "code",
   "execution_count": 11,
   "metadata": {},
   "outputs": [],
   "source": [
    "#NIKKEI = os.path.join(output_dir,\"hoken_NIKKEI.csv\")\n",
    "#df.to_csv(NIKKEI, encoding='cp932', errors='replace', index=False)\n"
   ]
  },
  {
   "cell_type": "markdown",
   "metadata": {},
   "source": [
    "# Merged"
   ]
  },
  {
   "cell_type": "code",
   "execution_count": 12,
   "metadata": {},
   "outputs": [],
   "source": [
    "filename = os.path.join(output_dir,\"merged.csv\")\n",
    "df = pd.read_csv(filename,encoding='cp932')"
   ]
  },
  {
   "cell_type": "code",
   "execution_count": 16,
   "metadata": {},
   "outputs": [
    {
     "data": {
      "text/plain": [
       "chozai                    object\n",
       "id                         int64\n",
       "name_x                    object\n",
       "birth                     object\n",
       "hoken_x                   object\n",
       "hokenNo                   object\n",
       "kigo_x                    object\n",
       "bango_x                  float64\n",
       "kouhi1                    object\n",
       "kouhi_jyu1                object\n",
       "kouhi2                    object\n",
       "kouhi_jyu2                object\n",
       "kyufu                      int64\n",
       "institution               object\n",
       "conf_date                float64\n",
       "segment                   object\n",
       "facial                   float64\n",
       "validation                object\n",
       "hoken_y                  float64\n",
       "hoken_name                object\n",
       "kigo_y                   float64\n",
       "bango_y                  float64\n",
       "eda                      float64\n",
       "hoken_segment             object\n",
       "yours                     object\n",
       "name_y                    object\n",
       "kana                     float64\n",
       "sex1                      object\n",
       "address                   object\n",
       "postal                    object\n",
       "hoken_issue_date         float64\n",
       "hoken_validation_date    float64\n",
       "hoken_end_date           float64\n",
       "ratio                    float64\n",
       "invalid_data             float64\n",
       "korei_issue              float64\n",
       "korei_start              float64\n",
       "korei_end                float64\n",
       "korei_ratio              float64\n",
       "gendo_kubun              float64\n",
       "limit_certification       object\n",
       "limit_segment             object\n",
       "limit_issue              float64\n",
       "limit_start              float64\n",
       "limit_end                float64\n",
       "dtype: object"
      ]
     },
     "execution_count": 16,
     "metadata": {},
     "output_type": "execute_result"
    }
   ],
   "source": [
    "df.dtypes"
   ]
  }
 ],
 "metadata": {
  "interpreter": {
   "hash": "b3ba2566441a7c06988d0923437866b63cedc61552a5af99d1f4fb67d367b25f"
  },
  "kernelspec": {
   "display_name": "Python 3.8.8 ('base')",
   "language": "python",
   "name": "python3"
  },
  "language_info": {
   "codemirror_mode": {
    "name": "ipython",
    "version": 3
   },
   "file_extension": ".py",
   "mimetype": "text/x-python",
   "name": "python",
   "nbconvert_exporter": "python",
   "pygments_lexer": "ipython3",
   "version": "3.8.8"
  },
  "orig_nbformat": 4
 },
 "nbformat": 4,
 "nbformat_minor": 2
}
